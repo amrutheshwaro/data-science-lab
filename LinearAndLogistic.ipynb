{
 "cells": [
  {
   "cell_type": "markdown",
   "id": "sound-genesis",
   "metadata": {},
   "source": [
    "# Linear and Logistic Regression"
   ]
  },
  {
   "cell_type": "markdown",
   "id": "armed-banking",
   "metadata": {},
   "source": [
    "## Linear Regression"
   ]
  },
  {
   "cell_type": "markdown",
   "id": "animal-jordan",
   "metadata": {},
   "source": [
    "### Downloading the dataset"
   ]
  },
  {
   "cell_type": "code",
   "execution_count": 1,
   "id": "desperate-analyst",
   "metadata": {},
   "outputs": [
    {
     "name": "stdout",
     "output_type": "stream",
     "text": [
      "--2022-02-16 00:39:22--  https://raw.githubusercontent.com/justmarkham/scikit-learn-videos/master/data/Advertising.csv\r\n",
      "Resolving raw.githubusercontent.com (raw.githubusercontent.com)... failed: Temporary failure in name resolution.\r\n",
      "wget: unable to resolve host address ‘raw.githubusercontent.com’\r\n"
     ]
    }
   ],
   "source": [
    "!wget https://raw.githubusercontent.com/justmarkham/scikit-learn-videos/master/data/Advertising.csv"
   ]
  },
  {
   "cell_type": "markdown",
   "id": "mediterranean-louis",
   "metadata": {},
   "source": [
    "### Importing the libraries"
   ]
  },
  {
   "cell_type": "code",
   "execution_count": 2,
   "id": "aware-exploration",
   "metadata": {},
   "outputs": [],
   "source": [
    "import pandas as pd\n",
    "import numpy as np\n",
    "import matplotlib.pyplot as plt\n",
    "from sklearn.linear_model import LinearRegression\n",
    "from sklearn.metrics import mean_squared_error, r2_score\n",
    "from sklearn.model_selection import train_test_split"
   ]
  },
  {
   "cell_type": "markdown",
   "id": "exotic-purple",
   "metadata": {},
   "source": [
    "### Reading the data"
   ]
  },
  {
   "cell_type": "code",
   "execution_count": 3,
   "id": "fabulous-interference",
   "metadata": {},
   "outputs": [
    {
     "data": {
      "text/html": [
       "<div>\n",
       "<style scoped>\n",
       "    .dataframe tbody tr th:only-of-type {\n",
       "        vertical-align: middle;\n",
       "    }\n",
       "\n",
       "    .dataframe tbody tr th {\n",
       "        vertical-align: top;\n",
       "    }\n",
       "\n",
       "    .dataframe thead th {\n",
       "        text-align: right;\n",
       "    }\n",
       "</style>\n",
       "<table border=\"1\" class=\"dataframe\">\n",
       "  <thead>\n",
       "    <tr style=\"text-align: right;\">\n",
       "      <th></th>\n",
       "      <th>Unnamed: 0</th>\n",
       "      <th>TV</th>\n",
       "      <th>Radio</th>\n",
       "      <th>Newspaper</th>\n",
       "      <th>Sales</th>\n",
       "    </tr>\n",
       "  </thead>\n",
       "  <tbody>\n",
       "    <tr>\n",
       "      <th>0</th>\n",
       "      <td>1</td>\n",
       "      <td>230.1</td>\n",
       "      <td>37.8</td>\n",
       "      <td>69.2</td>\n",
       "      <td>22.1</td>\n",
       "    </tr>\n",
       "    <tr>\n",
       "      <th>1</th>\n",
       "      <td>2</td>\n",
       "      <td>44.5</td>\n",
       "      <td>39.3</td>\n",
       "      <td>45.1</td>\n",
       "      <td>10.4</td>\n",
       "    </tr>\n",
       "    <tr>\n",
       "      <th>2</th>\n",
       "      <td>3</td>\n",
       "      <td>17.2</td>\n",
       "      <td>45.9</td>\n",
       "      <td>69.3</td>\n",
       "      <td>9.3</td>\n",
       "    </tr>\n",
       "    <tr>\n",
       "      <th>3</th>\n",
       "      <td>4</td>\n",
       "      <td>151.5</td>\n",
       "      <td>41.3</td>\n",
       "      <td>58.5</td>\n",
       "      <td>18.5</td>\n",
       "    </tr>\n",
       "    <tr>\n",
       "      <th>4</th>\n",
       "      <td>5</td>\n",
       "      <td>180.8</td>\n",
       "      <td>10.8</td>\n",
       "      <td>58.4</td>\n",
       "      <td>12.9</td>\n",
       "    </tr>\n",
       "  </tbody>\n",
       "</table>\n",
       "</div>"
      ],
      "text/plain": [
       "   Unnamed: 0     TV  Radio  Newspaper  Sales\n",
       "0           1  230.1   37.8       69.2   22.1\n",
       "1           2   44.5   39.3       45.1   10.4\n",
       "2           3   17.2   45.9       69.3    9.3\n",
       "3           4  151.5   41.3       58.5   18.5\n",
       "4           5  180.8   10.8       58.4   12.9"
      ]
     },
     "execution_count": 3,
     "metadata": {},
     "output_type": "execute_result"
    }
   ],
   "source": [
    "data = pd.read_csv('Advertising.csv')\n",
    "data.head()"
   ]
  },
  {
   "cell_type": "code",
   "execution_count": 4,
   "id": "tamil-capture",
   "metadata": {},
   "outputs": [
    {
     "data": {
      "text/plain": [
       "Index(['Unnamed: 0', 'TV', 'Radio', 'Newspaper', 'Sales'], dtype='object')"
      ]
     },
     "execution_count": 4,
     "metadata": {},
     "output_type": "execute_result"
    }
   ],
   "source": [
    "data.columns"
   ]
  },
  {
   "cell_type": "code",
   "execution_count": 5,
   "id": "grand-sympathy",
   "metadata": {},
   "outputs": [
    {
     "data": {
      "text/html": [
       "<div>\n",
       "<style scoped>\n",
       "    .dataframe tbody tr th:only-of-type {\n",
       "        vertical-align: middle;\n",
       "    }\n",
       "\n",
       "    .dataframe tbody tr th {\n",
       "        vertical-align: top;\n",
       "    }\n",
       "\n",
       "    .dataframe thead th {\n",
       "        text-align: right;\n",
       "    }\n",
       "</style>\n",
       "<table border=\"1\" class=\"dataframe\">\n",
       "  <thead>\n",
       "    <tr style=\"text-align: right;\">\n",
       "      <th></th>\n",
       "      <th>TV</th>\n",
       "      <th>Radio</th>\n",
       "      <th>Newspaper</th>\n",
       "      <th>Sales</th>\n",
       "    </tr>\n",
       "  </thead>\n",
       "  <tbody>\n",
       "    <tr>\n",
       "      <th>0</th>\n",
       "      <td>230.1</td>\n",
       "      <td>37.8</td>\n",
       "      <td>69.2</td>\n",
       "      <td>22.1</td>\n",
       "    </tr>\n",
       "    <tr>\n",
       "      <th>1</th>\n",
       "      <td>44.5</td>\n",
       "      <td>39.3</td>\n",
       "      <td>45.1</td>\n",
       "      <td>10.4</td>\n",
       "    </tr>\n",
       "    <tr>\n",
       "      <th>2</th>\n",
       "      <td>17.2</td>\n",
       "      <td>45.9</td>\n",
       "      <td>69.3</td>\n",
       "      <td>9.3</td>\n",
       "    </tr>\n",
       "    <tr>\n",
       "      <th>3</th>\n",
       "      <td>151.5</td>\n",
       "      <td>41.3</td>\n",
       "      <td>58.5</td>\n",
       "      <td>18.5</td>\n",
       "    </tr>\n",
       "    <tr>\n",
       "      <th>4</th>\n",
       "      <td>180.8</td>\n",
       "      <td>10.8</td>\n",
       "      <td>58.4</td>\n",
       "      <td>12.9</td>\n",
       "    </tr>\n",
       "    <tr>\n",
       "      <th>...</th>\n",
       "      <td>...</td>\n",
       "      <td>...</td>\n",
       "      <td>...</td>\n",
       "      <td>...</td>\n",
       "    </tr>\n",
       "    <tr>\n",
       "      <th>195</th>\n",
       "      <td>38.2</td>\n",
       "      <td>3.7</td>\n",
       "      <td>13.8</td>\n",
       "      <td>7.6</td>\n",
       "    </tr>\n",
       "    <tr>\n",
       "      <th>196</th>\n",
       "      <td>94.2</td>\n",
       "      <td>4.9</td>\n",
       "      <td>8.1</td>\n",
       "      <td>9.7</td>\n",
       "    </tr>\n",
       "    <tr>\n",
       "      <th>197</th>\n",
       "      <td>177.0</td>\n",
       "      <td>9.3</td>\n",
       "      <td>6.4</td>\n",
       "      <td>12.8</td>\n",
       "    </tr>\n",
       "    <tr>\n",
       "      <th>198</th>\n",
       "      <td>283.6</td>\n",
       "      <td>42.0</td>\n",
       "      <td>66.2</td>\n",
       "      <td>25.5</td>\n",
       "    </tr>\n",
       "    <tr>\n",
       "      <th>199</th>\n",
       "      <td>232.1</td>\n",
       "      <td>8.6</td>\n",
       "      <td>8.7</td>\n",
       "      <td>13.4</td>\n",
       "    </tr>\n",
       "  </tbody>\n",
       "</table>\n",
       "<p>200 rows × 4 columns</p>\n",
       "</div>"
      ],
      "text/plain": [
       "        TV  Radio  Newspaper  Sales\n",
       "0    230.1   37.8       69.2   22.1\n",
       "1     44.5   39.3       45.1   10.4\n",
       "2     17.2   45.9       69.3    9.3\n",
       "3    151.5   41.3       58.5   18.5\n",
       "4    180.8   10.8       58.4   12.9\n",
       "..     ...    ...        ...    ...\n",
       "195   38.2    3.7       13.8    7.6\n",
       "196   94.2    4.9        8.1    9.7\n",
       "197  177.0    9.3        6.4   12.8\n",
       "198  283.6   42.0       66.2   25.5\n",
       "199  232.1    8.6        8.7   13.4\n",
       "\n",
       "[200 rows x 4 columns]"
      ]
     },
     "execution_count": 5,
     "metadata": {},
     "output_type": "execute_result"
    }
   ],
   "source": [
    "data.drop(['Unnamed: 0'], axis=1)"
   ]
  },
  {
   "cell_type": "code",
   "execution_count": 6,
   "id": "handed-dinner",
   "metadata": {
    "scrolled": true
   },
   "outputs": [
    {
     "data": {
      "image/png": "[encoded data removed]",
      "text/plain": [
       "<Figure size 1152x576 with 1 Axes>"
      ]
     },
     "metadata": {
      "needs_background": "light"
     },
     "output_type": "display_data"
    }
   ],
   "source": [
    "plt.figure(figsize=(16, 8))\n",
    "plt.rc('font', size=20)\n",
    "plt.scatter(x=data['TV'], y=data['Sales'])\n",
    "plt.xlabel(\"Money spent on TV ads in $\")\n",
    "plt.ylabel(\"Sales in $\")\n",
    "plt.show()"
   ]
  },
  {
   "cell_type": "code",
   "execution_count": 7,
   "id": "stable-gilbert",
   "metadata": {},
   "outputs": [
    {
     "data": {
      "text/plain": [
       "array([230.1,  44.5,  17.2, 151.5, 180.8,   8.7,  57.5, 120.2,   8.6,\n",
       "       199.8,  66.1, 214.7,  23.8,  97.5, 204.1, 195.4,  67.8, 281.4,\n",
       "        69.2, 147.3, 218.4, 237.4,  13.2, 228.3,  62.3, 262.9, 142.9,\n",
       "       240.1, 248.8,  70.6, 292.9, 112.9,  97.2, 265.6,  95.7, 290.7,\n",
       "       266.9,  74.7,  43.1, 228. , 202.5, 177. , 293.6, 206.9,  25.1,\n",
       "       175.1,  89.7, 239.9, 227.2,  66.9, 199.8, 100.4, 216.4, 182.6,\n",
       "       262.7, 198.9,   7.3, 136.2, 210.8, 210.7,  53.5, 261.3, 239.3,\n",
       "       102.7, 131.1,  69. ,  31.5, 139.3, 237.4, 216.8, 199.1, 109.8,\n",
       "        26.8, 129.4, 213.4,  16.9,  27.5, 120.5,   5.4, 116. ,  76.4,\n",
       "       239.8,  75.3,  68.4, 213.5, 193.2,  76.3, 110.7,  88.3, 109.8,\n",
       "       134.3,  28.6, 217.7, 250.9, 107.4, 163.3, 197.6, 184.9, 289.7,\n",
       "       135.2, 222.4, 296.4, 280.2, 187.9, 238.2, 137.9,  25. ,  90.4,\n",
       "        13.1, 255.4, 225.8, 241.7, 175.7, 209.6,  78.2,  75.1, 139.2,\n",
       "        76.4, 125.7,  19.4, 141.3,  18.8, 224. , 123.1, 229.5,  87.2,\n",
       "         7.8,  80.2, 220.3,  59.6,   0.7, 265.2,   8.4, 219.8,  36.9,\n",
       "        48.3,  25.6, 273.7,  43. , 184.9,  73.4, 193.7, 220.5, 104.6,\n",
       "        96.2, 140.3, 240.1, 243.2,  38. ,  44.7, 280.7, 121. , 197.6,\n",
       "       171.3, 187.8,   4.1,  93.9, 149.8,  11.7, 131.7, 172.5,  85.7,\n",
       "       188.4, 163.5, 117.2, 234.5,  17.9, 206.8, 215.4, 284.3,  50. ,\n",
       "       164.5,  19.6, 168.4, 222.4, 276.9, 248.4, 170.2, 276.7, 165.6,\n",
       "       156.6, 218.5,  56.2, 287.6, 253.8, 205. , 139.5, 191.1, 286. ,\n",
       "        18.7,  39.5,  75.5,  17.2, 166.8, 149.7,  38.2,  94.2, 177. ,\n",
       "       283.6, 232.1])"
      ]
     },
     "execution_count": 7,
     "metadata": {},
     "output_type": "execute_result"
    }
   ],
   "source": [
    "data['TV'].values"
   ]
  },
  {
   "cell_type": "code",
   "execution_count": 8,
   "id": "handmade-minute",
   "metadata": {},
   "outputs": [
    {
     "data": {
      "text/plain": [
       "array([[230.1],\n",
       "       [ 44.5],\n",
       "       [ 17.2],\n",
       "       [151.5],\n",
       "       [180.8],\n",
       "       [  8.7],\n",
       "       [ 57.5],\n",
       "       [120.2],\n",
       "       [  8.6],\n",
       "       [199.8],\n",
       "       [ 66.1],\n",
       "       [214.7],\n",
       "       [ 23.8],\n",
       "       [ 97.5],\n",
       "       [204.1],\n",
       "       [195.4],\n",
       "       [ 67.8],\n",
       "       [281.4],\n",
       "       [ 69.2],\n",
       "       [147.3],\n",
       "       [218.4],\n",
       "       [237.4],\n",
       "       [ 13.2],\n",
       "       [228.3],\n",
       "       [ 62.3],\n",
       "       [262.9],\n",
       "       [142.9],\n",
       "       [240.1],\n",
       "       [248.8],\n",
       "       [ 70.6],\n",
       "       [292.9],\n",
       "       [112.9],\n",
       "       [ 97.2],\n",
       "       [265.6],\n",
       "       [ 95.7],\n",
       "       [290.7],\n",
       "       [266.9],\n",
       "       [ 74.7],\n",
       "       [ 43.1],\n",
       "       [228. ],\n",
       "       [202.5],\n",
       "       [177. ],\n",
       "       [293.6],\n",
       "       [206.9],\n",
       "       [ 25.1],\n",
       "       [175.1],\n",
       "       [ 89.7],\n",
       "       [239.9],\n",
       "       [227.2],\n",
       "       [ 66.9],\n",
       "       [199.8],\n",
       "       [100.4],\n",
       "       [216.4],\n",
       "       [182.6],\n",
       "       [262.7],\n",
       "       [198.9],\n",
       "       [  7.3],\n",
       "       [136.2],\n",
       "       [210.8],\n",
       "       [210.7],\n",
       "       [ 53.5],\n",
       "       [261.3],\n",
       "       [239.3],\n",
       "       [102.7],\n",
       "       [131.1],\n",
       "       [ 69. ],\n",
       "       [ 31.5],\n",
       "       [139.3],\n",
       "       [237.4],\n",
       "       [216.8],\n",
       "       [199.1],\n",
       "       [109.8],\n",
       "       [ 26.8],\n",
       "       [129.4],\n",
       "       [213.4],\n",
       "       [ 16.9],\n",
       "       [ 27.5],\n",
       "       [120.5],\n",
       "       [  5.4],\n",
       "       [116. ],\n",
       "       [ 76.4],\n",
       "       [239.8],\n",
       "       [ 75.3],\n",
       "       [ 68.4],\n",
       "       [213.5],\n",
       "       [193.2],\n",
       "       [ 76.3],\n",
       "       [110.7],\n",
       "       [ 88.3],\n",
       "       [109.8],\n",
       "       [134.3],\n",
       "       [ 28.6],\n",
       "       [217.7],\n",
       "       [250.9],\n",
       "       [107.4],\n",
       "       [163.3],\n",
       "       [197.6],\n",
       "       [184.9],\n",
       "       [289.7],\n",
       "       [135.2],\n",
       "       [222.4],\n",
       "       [296.4],\n",
       "       [280.2],\n",
       "       [187.9],\n",
       "       [238.2],\n",
       "       [137.9],\n",
       "       [ 25. ],\n",
       "       [ 90.4],\n",
       "       [ 13.1],\n",
       "       [255.4],\n",
       "       [225.8],\n",
       "       [241.7],\n",
       "       [175.7],\n",
       "       [209.6],\n",
       "       [ 78.2],\n",
       "       [ 75.1],\n",
       "       [139.2],\n",
       "       [ 76.4],\n",
       "       [125.7],\n",
       "       [ 19.4],\n",
       "       [141.3],\n",
       "       [ 18.8],\n",
       "       [224. ],\n",
       "       [123.1],\n",
       "       [229.5],\n",
       "       [ 87.2],\n",
       "       [  7.8],\n",
       "       [ 80.2],\n",
       "       [220.3],\n",
       "       [ 59.6],\n",
       "       [  0.7],\n",
       "       [265.2],\n",
       "       [  8.4],\n",
       "       [219.8],\n",
       "       [ 36.9],\n",
       "       [ 48.3],\n",
       "       [ 25.6],\n",
       "       [273.7],\n",
       "       [ 43. ],\n",
       "       [184.9],\n",
       "       [ 73.4],\n",
       "       [193.7],\n",
       "       [220.5],\n",
       "       [104.6],\n",
       "       [ 96.2],\n",
       "       [140.3],\n",
       "       [240.1],\n",
       "       [243.2],\n",
       "       [ 38. ],\n",
       "       [ 44.7],\n",
       "       [280.7],\n",
       "       [121. ],\n",
       "       [197.6],\n",
       "       [171.3],\n",
       "       [187.8],\n",
       "       [  4.1],\n",
       "       [ 93.9],\n",
       "       [149.8],\n",
       "       [ 11.7],\n",
       "       [131.7],\n",
       "       [172.5],\n",
       "       [ 85.7],\n",
       "       [188.4],\n",
       "       [163.5],\n",
       "       [117.2],\n",
       "       [234.5],\n",
       "       [ 17.9],\n",
       "       [206.8],\n",
       "       [215.4],\n",
       "       [284.3],\n",
       "       [ 50. ],\n",
       "       [164.5],\n",
       "       [ 19.6],\n",
       "       [168.4],\n",
       "       [222.4],\n",
       "       [276.9],\n",
       "       [248.4],\n",
       "       [170.2],\n",
       "       [276.7],\n",
       "       [165.6],\n",
       "       [156.6],\n",
       "       [218.5],\n",
       "       [ 56.2],\n",
       "       [287.6],\n",
       "       [253.8],\n",
       "       [205. ],\n",
       "       [139.5],\n",
       "       [191.1],\n",
       "       [286. ],\n",
       "       [ 18.7],\n",
       "       [ 39.5],\n",
       "       [ 75.5],\n",
       "       [ 17.2],\n",
       "       [166.8],\n",
       "       [149.7],\n",
       "       [ 38.2],\n",
       "       [ 94.2],\n",
       "       [177. ],\n",
       "       [283.6],\n",
       "       [232.1]])"
      ]
     },
     "execution_count": 8,
     "metadata": {},
     "output_type": "execute_result"
    }
   ],
   "source": [
    "x = data['TV'].values.reshape(-1, 1)\n",
    "x"
   ]
  },
  {
   "cell_type": "code",
   "execution_count": 9,
   "id": "tested-physiology",
   "metadata": {},
   "outputs": [
    {
     "data": {
      "text/plain": [
       "array([[22.1],\n",
       "       [10.4],\n",
       "       [ 9.3],\n",
       "       [18.5],\n",
       "       [12.9],\n",
       "       [ 7.2],\n",
       "       [11.8],\n",
       "       [13.2],\n",
       "       [ 4.8],\n",
       "       [10.6],\n",
       "       [ 8.6],\n",
       "       [17.4],\n",
       "       [ 9.2],\n",
       "       [ 9.7],\n",
       "       [19. ],\n",
       "       [22.4],\n",
       "       [12.5],\n",
       "       [24.4],\n",
       "       [11.3],\n",
       "       [14.6],\n",
       "       [18. ],\n",
       "       [12.5],\n",
       "       [ 5.6],\n",
       "       [15.5],\n",
       "       [ 9.7],\n",
       "       [12. ],\n",
       "       [15. ],\n",
       "       [15.9],\n",
       "       [18.9],\n",
       "       [10.5],\n",
       "       [21.4],\n",
       "       [11.9],\n",
       "       [ 9.6],\n",
       "       [17.4],\n",
       "       [ 9.5],\n",
       "       [12.8],\n",
       "       [25.4],\n",
       "       [14.7],\n",
       "       [10.1],\n",
       "       [21.5],\n",
       "       [16.6],\n",
       "       [17.1],\n",
       "       [20.7],\n",
       "       [12.9],\n",
       "       [ 8.5],\n",
       "       [14.9],\n",
       "       [10.6],\n",
       "       [23.2],\n",
       "       [14.8],\n",
       "       [ 9.7],\n",
       "       [11.4],\n",
       "       [10.7],\n",
       "       [22.6],\n",
       "       [21.2],\n",
       "       [20.2],\n",
       "       [23.7],\n",
       "       [ 5.5],\n",
       "       [13.2],\n",
       "       [23.8],\n",
       "       [18.4],\n",
       "       [ 8.1],\n",
       "       [24.2],\n",
       "       [15.7],\n",
       "       [14. ],\n",
       "       [18. ],\n",
       "       [ 9.3],\n",
       "       [ 9.5],\n",
       "       [13.4],\n",
       "       [18.9],\n",
       "       [22.3],\n",
       "       [18.3],\n",
       "       [12.4],\n",
       "       [ 8.8],\n",
       "       [11. ],\n",
       "       [17. ],\n",
       "       [ 8.7],\n",
       "       [ 6.9],\n",
       "       [14.2],\n",
       "       [ 5.3],\n",
       "       [11. ],\n",
       "       [11.8],\n",
       "       [12.3],\n",
       "       [11.3],\n",
       "       [13.6],\n",
       "       [21.7],\n",
       "       [15.2],\n",
       "       [12. ],\n",
       "       [16. ],\n",
       "       [12.9],\n",
       "       [16.7],\n",
       "       [11.2],\n",
       "       [ 7.3],\n",
       "       [19.4],\n",
       "       [22.2],\n",
       "       [11.5],\n",
       "       [16.9],\n",
       "       [11.7],\n",
       "       [15.5],\n",
       "       [25.4],\n",
       "       [17.2],\n",
       "       [11.7],\n",
       "       [23.8],\n",
       "       [14.8],\n",
       "       [14.7],\n",
       "       [20.7],\n",
       "       [19.2],\n",
       "       [ 7.2],\n",
       "       [ 8.7],\n",
       "       [ 5.3],\n",
       "       [19.8],\n",
       "       [13.4],\n",
       "       [21.8],\n",
       "       [14.1],\n",
       "       [15.9],\n",
       "       [14.6],\n",
       "       [12.6],\n",
       "       [12.2],\n",
       "       [ 9.4],\n",
       "       [15.9],\n",
       "       [ 6.6],\n",
       "       [15.5],\n",
       "       [ 7. ],\n",
       "       [11.6],\n",
       "       [15.2],\n",
       "       [19.7],\n",
       "       [10.6],\n",
       "       [ 6.6],\n",
       "       [ 8.8],\n",
       "       [24.7],\n",
       "       [ 9.7],\n",
       "       [ 1.6],\n",
       "       [12.7],\n",
       "       [ 5.7],\n",
       "       [19.6],\n",
       "       [10.8],\n",
       "       [11.6],\n",
       "       [ 9.5],\n",
       "       [20.8],\n",
       "       [ 9.6],\n",
       "       [20.7],\n",
       "       [10.9],\n",
       "       [19.2],\n",
       "       [20.1],\n",
       "       [10.4],\n",
       "       [11.4],\n",
       "       [10.3],\n",
       "       [13.2],\n",
       "       [25.4],\n",
       "       [10.9],\n",
       "       [10.1],\n",
       "       [16.1],\n",
       "       [11.6],\n",
       "       [16.6],\n",
       "       [19. ],\n",
       "       [15.6],\n",
       "       [ 3.2],\n",
       "       [15.3],\n",
       "       [10.1],\n",
       "       [ 7.3],\n",
       "       [12.9],\n",
       "       [14.4],\n",
       "       [13.3],\n",
       "       [14.9],\n",
       "       [18. ],\n",
       "       [11.9],\n",
       "       [11.9],\n",
       "       [ 8. ],\n",
       "       [12.2],\n",
       "       [17.1],\n",
       "       [15. ],\n",
       "       [ 8.4],\n",
       "       [14.5],\n",
       "       [ 7.6],\n",
       "       [11.7],\n",
       "       [11.5],\n",
       "       [27. ],\n",
       "       [20.2],\n",
       "       [11.7],\n",
       "       [11.8],\n",
       "       [12.6],\n",
       "       [10.5],\n",
       "       [12.2],\n",
       "       [ 8.7],\n",
       "       [26.2],\n",
       "       [17.6],\n",
       "       [22.6],\n",
       "       [10.3],\n",
       "       [17.3],\n",
       "       [15.9],\n",
       "       [ 6.7],\n",
       "       [10.8],\n",
       "       [ 9.9],\n",
       "       [ 5.9],\n",
       "       [19.6],\n",
       "       [17.3],\n",
       "       [ 7.6],\n",
       "       [ 9.7],\n",
       "       [12.8],\n",
       "       [25.5],\n",
       "       [13.4]])"
      ]
     },
     "execution_count": 9,
     "metadata": {},
     "output_type": "execute_result"
    }
   ],
   "source": [
    "y = data['Sales'].values.reshape(-1, 1)\n",
    "y"
   ]
  },
  {
   "cell_type": "code",
   "execution_count": 10,
   "id": "laughing-ukraine",
   "metadata": {},
   "outputs": [],
   "source": [
    "x_train, x_test, y_train, y_test = train_test_split(x, y, test_size=0.3)"
   ]
  },
  {
   "cell_type": "code",
   "execution_count": 11,
   "id": "complete-speaker",
   "metadata": {},
   "outputs": [
    {
     "data": {
      "text/plain": [
       "LinearRegression()"
      ]
     },
     "execution_count": 11,
     "metadata": {},
     "output_type": "execute_result"
    }
   ],
   "source": [
    "reg = LinearRegression()\n",
    "reg.fit(x_train, y_train)"
   ]
  },
  {
   "cell_type": "code",
   "execution_count": 12,
   "id": "premium-roberts",
   "metadata": {},
   "outputs": [
    {
     "name": "stdout",
     "output_type": "stream",
     "text": [
      "Slope:  0.0483713041715326\n",
      "Intercept:  6.820608217642094\n",
      "The linear model is: y = 6.8206 + 0.048371x\n"
     ]
    }
   ],
   "source": [
    "print(\"Slope: \", reg.coef_[0][0])\n",
    "print(\"Intercept: \", reg.intercept_[0])\n",
    "print(\"The linear model is: y = {:.5} + {:.5}x\".format(reg.intercept_[0], reg.coef_[0][0]))"
   ]
  },
  {
   "cell_type": "code",
   "execution_count": 13,
   "id": "preliminary-cooler",
   "metadata": {},
   "outputs": [],
   "source": [
    "predictions = reg.predict(x_test)"
   ]
  },
  {
   "cell_type": "code",
   "execution_count": 14,
   "id": "successful-catalog",
   "metadata": {},
   "outputs": [
    {
     "data": {
      "image/png": "[encoded data removed]",
      "text/plain": [
       "<Figure size 1152x576 with 1 Axes>"
      ]
     },
     "metadata": {
      "needs_background": "light"
     },
     "output_type": "display_data"
    }
   ],
   "source": [
    "plt.figure(figsize=(16, 8))\n",
    "plt.rc('font', size=20)\n",
    "plt.scatter(x=x_test, y=y_test)\n",
    "plt.plot(x_test, predictions, color='red', linewidth=2)\n",
    "plt.xlabel(\"Money spent on TV ads in $\")\n",
    "plt.ylabel(\"Sales in $\",)\n",
    "plt.show()"
   ]
  },
  {
   "cell_type": "code",
   "execution_count": 15,
   "id": "accredited-least",
   "metadata": {},
   "outputs": [
    {
     "name": "stdout",
     "output_type": "stream",
     "text": [
      "Root Mean Squared Error=  3.1107990284324796\n"
     ]
    }
   ],
   "source": [
    "rmse = np.sqrt(mean_squared_error(y_test, predictions))\n",
    "print(\"Root Mean Squared Error= \", rmse)"
   ]
  },
  {
   "cell_type": "code",
   "execution_count": 16,
   "id": "respective-exchange",
   "metadata": {},
   "outputs": [
    {
     "name": "stdout",
     "output_type": "stream",
     "text": [
      "R2 score=  0.6099152137010471\n"
     ]
    }
   ],
   "source": [
    "r2 = r2_score(y_test, predictions)\n",
    "print(\"R2 score= \", r2)"
   ]
  },
  {
   "cell_type": "markdown",
   "id": "graphic-manchester",
   "metadata": {},
   "source": [
    "## Logistic Regression"
   ]
  },
  {
   "cell_type": "markdown",
   "id": "historic-hypothetical",
   "metadata": {},
   "source": [
    "### Importing libraries"
   ]
  },
  {
   "cell_type": "code",
   "execution_count": 17,
   "id": "trying-satin",
   "metadata": {},
   "outputs": [],
   "source": [
    "import matplotlib.pyplot as plt\n",
    "import numpy as np\n",
    "from sklearn.linear_model import LogisticRegression\n",
    "from sklearn.metrics import classification_report, confusion_matrix"
   ]
  },
  {
   "cell_type": "code",
   "execution_count": 18,
   "id": "ceramic-delaware",
   "metadata": {},
   "outputs": [],
   "source": [
    "x = np.arange(10).reshape(-1, 1)\n",
    "y = np.array([0, 0, 0, 0, 1, 1, 1, 1, 1, 1])"
   ]
  },
  {
   "cell_type": "code",
   "execution_count": 19,
   "id": "young-belief",
   "metadata": {},
   "outputs": [
    {
     "data": {
      "text/plain": [
       "array([[0],\n",
       "       [1],\n",
       "       [2],\n",
       "       [3],\n",
       "       [4],\n",
       "       [5],\n",
       "       [6],\n",
       "       [7],\n",
       "       [8],\n",
       "       [9]])"
      ]
     },
     "execution_count": 19,
     "metadata": {},
     "output_type": "execute_result"
    }
   ],
   "source": [
    "x"
   ]
  },
  {
   "cell_type": "code",
   "execution_count": 20,
   "id": "moving-driving",
   "metadata": {},
   "outputs": [
    {
     "data": {
      "text/plain": [
       "array([0, 0, 0, 0, 1, 1, 1, 1, 1, 1])"
      ]
     },
     "execution_count": 20,
     "metadata": {},
     "output_type": "execute_result"
    }
   ],
   "source": [
    "y"
   ]
  },
  {
   "cell_type": "code",
   "execution_count": 21,
   "id": "demonstrated-legend",
   "metadata": {},
   "outputs": [],
   "source": [
    "model = LogisticRegression(solver='liblinear', random_state=0)"
   ]
  },
  {
   "cell_type": "code",
   "execution_count": 22,
   "id": "silent-virginia",
   "metadata": {},
   "outputs": [
    {
     "data": {
      "text/plain": [
       "LogisticRegression(random_state=0, solver='liblinear')"
      ]
     },
     "execution_count": 22,
     "metadata": {},
     "output_type": "execute_result"
    }
   ],
   "source": [
    "model.fit(x, y)"
   ]
  },
  {
   "cell_type": "code",
   "execution_count": 23,
   "id": "advised-array",
   "metadata": {},
   "outputs": [
    {
     "name": "stdout",
     "output_type": "stream",
     "text": [
      "[0 1]\n"
     ]
    }
   ],
   "source": [
    "print(model.classes_)"
   ]
  },
  {
   "cell_type": "code",
   "execution_count": 24,
   "id": "lesser-cambridge",
   "metadata": {},
   "outputs": [
    {
     "name": "stdout",
     "output_type": "stream",
     "text": [
      "[-1.04608067]\n"
     ]
    }
   ],
   "source": [
    "print(model.intercept_)"
   ]
  },
  {
   "cell_type": "code",
   "execution_count": 25,
   "id": "funny-thanks",
   "metadata": {},
   "outputs": [
    {
     "name": "stdout",
     "output_type": "stream",
     "text": [
      "[[0.51491375]]\n"
     ]
    }
   ],
   "source": [
    "print(model.coef_)"
   ]
  },
  {
   "cell_type": "code",
   "execution_count": 26,
   "id": "major-technology",
   "metadata": {},
   "outputs": [
    {
     "name": "stdout",
     "output_type": "stream",
     "text": [
      "[[0.74002157 0.25997843]\n",
      " [0.62975524 0.37024476]\n",
      " [0.5040632  0.4959368 ]\n",
      " [0.37785549 0.62214451]\n",
      " [0.26628093 0.73371907]\n",
      " [0.17821501 0.82178499]\n",
      " [0.11472079 0.88527921]\n",
      " [0.07186982 0.92813018]\n",
      " [0.04422513 0.95577487]\n",
      " [0.02690569 0.97309431]]\n"
     ]
    }
   ],
   "source": [
    "print(model.predict_proba(x))"
   ]
  },
  {
   "cell_type": "code",
   "execution_count": 27,
   "id": "novel-riverside",
   "metadata": {},
   "outputs": [
    {
     "name": "stdout",
     "output_type": "stream",
     "text": [
      "[0 0 0 1 1 1 1 1 1 1]\n"
     ]
    }
   ],
   "source": [
    "print(model.predict(x))"
   ]
  },
  {
   "cell_type": "code",
   "execution_count": 28,
   "id": "incorrect-juvenile",
   "metadata": {},
   "outputs": [
    {
     "name": "stdout",
     "output_type": "stream",
     "text": [
      "0.9\n"
     ]
    }
   ],
   "source": [
    "print(model.score(x, y))"
   ]
  },
  {
   "cell_type": "code",
   "execution_count": 29,
   "id": "numeric-korean",
   "metadata": {},
   "outputs": [],
   "source": [
    "cm = confusion_matrix(y, model.predict(x))"
   ]
  },
  {
   "cell_type": "code",
   "execution_count": 30,
   "id": "figured-thesis",
   "metadata": {},
   "outputs": [
    {
     "data": {
      "image/png": "[encoded data removed]",
      "text/plain": [
       "<Figure size 576x576 with 1 Axes>"
      ]
     },
     "metadata": {
      "needs_background": "light"
     },
     "output_type": "display_data"
    }
   ],
   "source": [
    "fig, ax = plt.subplots(figsize=(8, 8))\n",
    "ax.imshow(cm)\n",
    "ax.grid(False)\n",
    "ax.xaxis.set(ticks=(0, 1), ticklabels=('Predicted 0s', 'Predicted 1s'))\n",
    "ax.yaxis.set(ticks=(0, 1), ticklabels=('Actual 0s', 'Actual 1s'))\n",
    "ax.set_ylim(1.5, -0.5)\n",
    "for i in range(2):\n",
    "    for j in range(2):\n",
    "        ax.text(j, i, cm[i, j], ha='center', va='center', color='red')\n",
    "plt.show()"
   ]
  },
  {
   "cell_type": "code",
   "execution_count": 31,
   "id": "endless-anthony",
   "metadata": {},
   "outputs": [
    {
     "name": "stdout",
     "output_type": "stream",
     "text": [
      "              precision    recall  f1-score   support\n",
      "\n",
      "           0       1.00      0.75      0.86         4\n",
      "           1       0.86      1.00      0.92         6\n",
      "\n",
      "    accuracy                           0.90        10\n",
      "   macro avg       0.93      0.88      0.89        10\n",
      "weighted avg       0.91      0.90      0.90        10\n",
      "\n"
     ]
    }
   ],
   "source": [
    "print(classification_report(y, model.predict(x)))"
   ]
  }
 ],
 "metadata": {
  "kernelspec": {
   "display_name": "Python 3",
   "language": "python",
   "name": "python3"
  },
  "language_info": {
   "codemirror_mode": {
    "name": "ipython",
    "version": 3
   },
   "file_extension": ".py",
   "mimetype": "text/x-python",
   "name": "python",
   "nbconvert_exporter": "python",
   "pygments_lexer": "ipython3",
   "version": "3.8.8"
  }
 },
 "nbformat": 4,
 "nbformat_minor": 5
}
